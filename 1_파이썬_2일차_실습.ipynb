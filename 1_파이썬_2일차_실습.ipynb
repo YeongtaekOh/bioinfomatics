{
  "nbformat": 4,
  "nbformat_minor": 0,
  "metadata": {
    "colab": {
      "provenance": [],
      "authorship_tag": "ABX9TyM5XZ8FALQAMau25CfT4nKv",
      "include_colab_link": true
    },
    "kernelspec": {
      "name": "python3",
      "display_name": "Python 3"
    },
    "language_info": {
      "name": "python"
    }
  },
  "cells": [
    {
      "cell_type": "markdown",
      "metadata": {
        "id": "view-in-github",
        "colab_type": "text"
      },
      "source": [
        "<a href=\"https://colab.research.google.com/github/YeongtaekOh/bioinfomatics/blob/main/1_%ED%8C%8C%EC%9D%B4%EC%8D%AC_2%EC%9D%BC%EC%B0%A8_%EC%8B%A4%EC%8A%B5.ipynb\" target=\"_parent\"><img src=\"https://colab.research.google.com/assets/colab-badge.svg\" alt=\"Open In Colab\"/></a>"
      ]
    },
    {
      "cell_type": "markdown",
      "source": [
        "파이썬 자료형과 연산자"
      ],
      "metadata": {
        "id": "0tfAnN8i0FzB"
      }
    },
    {
      "cell_type": "markdown",
      "source": [
        "2. 문자열 인덱싱 & 슬라이싱"
      ],
      "metadata": {
        "id": "GFLZgFcG0Fl2"
      }
    },
    {
      "cell_type": "code",
      "execution_count": null,
      "metadata": {
        "colab": {
          "base_uri": "https://localhost:8080/"
        },
        "id": "VCmxKZ6muFJ6",
        "outputId": "0d1a34df-425a-411a-de47-b23a8c9fe21b"
      },
      "outputs": [
        {
          "output_type": "stream",
          "name": "stdout",
          "text": [
            "숫자를 입력하세요: 3\n",
            "I eat 3.0 apples\n"
          ]
        }
      ],
      "source": [
        "a = float(input(format(\"숫자를 입력하세요: \")))\n",
        "print(\"I eat {} apples\".format(a))\n"
      ]
    },
    {
      "cell_type": "code",
      "source": [
        "\"I eat {} apples\".format(\"five\")"
      ],
      "metadata": {
        "id": "dd8WX0uMyThF"
      },
      "execution_count": null,
      "outputs": []
    },
    {
      "cell_type": "code",
      "source": [
        "number = 5\n",
        "\"I eat {} apples\".format(number)"
      ],
      "metadata": {
        "colab": {
          "base_uri": "https://localhost:8080/",
          "height": 35
        },
        "id": "LN9hvs7CyVOJ",
        "outputId": "bdf6a2d0-6157-4c58-e5f4-82fbddc226cd"
      },
      "execution_count": null,
      "outputs": [
        {
          "output_type": "execute_result",
          "data": {
            "text/plain": [
              "'I eat 5 apples'"
            ],
            "application/vnd.google.colaboratory.intrinsic+json": {
              "type": "string"
            }
          },
          "metadata": {},
          "execution_count": 6
        }
      ]
    },
    {
      "cell_type": "code",
      "source": [
        "\"I ate {} apples. So, I'm {}\".format(10, \"full\")"
      ],
      "metadata": {
        "colab": {
          "base_uri": "https://localhost:8080/",
          "height": 35
        },
        "id": "WXB0_Tn6yswx",
        "outputId": "b931d620-2e41-4c2c-a963-7473f737e5c0"
      },
      "execution_count": null,
      "outputs": [
        {
          "output_type": "execute_result",
          "data": {
            "text/plain": [
              "\"I ate 10 apples. So, I'm full\""
            ],
            "application/vnd.google.colaboratory.intrinsic+json": {
              "type": "string"
            }
          },
          "metadata": {},
          "execution_count": 9
        }
      ]
    },
    {
      "cell_type": "code",
      "source": [
        "\"I ate {} apples. So, I'm {word}\".format(5,word=\"full\")"
      ],
      "metadata": {
        "colab": {
          "base_uri": "https://localhost:8080/",
          "height": 35
        },
        "id": "QJHBnynJy3M8",
        "outputId": "95967011-f839-4a10-b076-0880194cf643"
      },
      "execution_count": null,
      "outputs": [
        {
          "output_type": "execute_result",
          "data": {
            "text/plain": [
              "\"I ate 5 apples. So, I'm full\""
            ],
            "application/vnd.google.colaboratory.intrinsic+json": {
              "type": "string"
            }
          },
          "metadata": {},
          "execution_count": 10
        }
      ]
    },
    {
      "cell_type": "code",
      "source": [
        "\"{0:<10}\".format(\"파이썬\")"
      ],
      "metadata": {
        "colab": {
          "base_uri": "https://localhost:8080/",
          "height": 35
        },
        "id": "KECuYkF-zGV8",
        "outputId": "2238507c-e716-449b-bbb5-1f8f800aadf4"
      },
      "execution_count": null,
      "outputs": [
        {
          "output_type": "execute_result",
          "data": {
            "text/plain": [
              "'파이썬       '"
            ],
            "application/vnd.google.colaboratory.intrinsic+json": {
              "type": "string"
            }
          },
          "metadata": {},
          "execution_count": 11
        }
      ]
    },
    {
      "cell_type": "code",
      "source": [
        "\"{0:>10}\".format(\"파이썬\")"
      ],
      "metadata": {
        "colab": {
          "base_uri": "https://localhost:8080/",
          "height": 35
        },
        "id": "dzJIjQLczGcU",
        "outputId": "1d04a167-d4bf-4731-8a40-22a5e1599545"
      },
      "execution_count": null,
      "outputs": [
        {
          "output_type": "execute_result",
          "data": {
            "text/plain": [
              "'       파이썬'"
            ],
            "application/vnd.google.colaboratory.intrinsic+json": {
              "type": "string"
            }
          },
          "metadata": {},
          "execution_count": 16
        }
      ]
    },
    {
      "cell_type": "code",
      "source": [
        "\"{0:*^10}\".format(\"파이썬\")"
      ],
      "metadata": {
        "colab": {
          "base_uri": "https://localhost:8080/",
          "height": 35
        },
        "id": "ym5F5_tjzGhD",
        "outputId": "5d4d42c5-f3e6-431c-f58d-db5bb2516ccd"
      },
      "execution_count": null,
      "outputs": [
        {
          "output_type": "execute_result",
          "data": {
            "text/plain": [
              "'***파이썬****'"
            ],
            "application/vnd.google.colaboratory.intrinsic+json": {
              "type": "string"
            }
          },
          "metadata": {},
          "execution_count": 15
        }
      ]
    },
    {
      "cell_type": "code",
      "source": [
        "\"{0:0.4f}\".format(3.4213423)"
      ],
      "metadata": {
        "colab": {
          "base_uri": "https://localhost:8080/",
          "height": 35
        },
        "id": "XMqbsa9HzGlC",
        "outputId": "66e8a09e-9f51-4ae2-ecc6-82414edde6e0"
      },
      "execution_count": null,
      "outputs": [
        {
          "output_type": "execute_result",
          "data": {
            "text/plain": [
              "'3.4213'"
            ],
            "application/vnd.google.colaboratory.intrinsic+json": {
              "type": "string"
            }
          },
          "metadata": {},
          "execution_count": 14
        }
      ]
    },
    {
      "cell_type": "code",
      "source": [
        "\"{0:10.4f}\".format(3.4213423)"
      ],
      "metadata": {
        "colab": {
          "base_uri": "https://localhost:8080/",
          "height": 35
        },
        "id": "W8oLwEvFzGpd",
        "outputId": "83a07271-b7f4-48c7-aa79-2c8bc45f6c2f"
      },
      "execution_count": null,
      "outputs": [
        {
          "output_type": "execute_result",
          "data": {
            "text/plain": [
              "'    3.4213'"
            ],
            "application/vnd.google.colaboratory.intrinsic+json": {
              "type": "string"
            }
          },
          "metadata": {},
          "execution_count": 13
        }
      ]
    },
    {
      "cell_type": "code",
      "source": [
        "\"{{and}}\".format()"
      ],
      "metadata": {
        "colab": {
          "base_uri": "https://localhost:8080/",
          "height": 35
        },
        "id": "7Ote4MlFzGsF",
        "outputId": "b26b2d3d-f860-47e8-d964-d5306bdf906c"
      },
      "execution_count": null,
      "outputs": [
        {
          "output_type": "execute_result",
          "data": {
            "text/plain": [
              "'{and}'"
            ],
            "application/vnd.google.colaboratory.intrinsic+json": {
              "type": "string"
            }
          },
          "metadata": {},
          "execution_count": 12
        }
      ]
    },
    {
      "cell_type": "code",
      "source": [
        "a = \"hobby\"\n",
        "a.count('b')"
      ],
      "metadata": {
        "colab": {
          "base_uri": "https://localhost:8080/"
        },
        "id": "KBC8hYFtzGu-",
        "outputId": "27ffdff5-97ab-4f98-d4f9-633784127b6b"
      },
      "execution_count": null,
      "outputs": [
        {
          "output_type": "execute_result",
          "data": {
            "text/plain": [
              "2"
            ]
          },
          "metadata": {},
          "execution_count": 17
        }
      ]
    },
    {
      "cell_type": "code",
      "source": [
        "a = \"Python is best choice\"\n",
        "a.find('b')\n"
      ],
      "metadata": {
        "colab": {
          "base_uri": "https://localhost:8080/"
        },
        "id": "K0uInrOE3Wfz",
        "outputId": "e31ceb8e-b2e0-4ccf-861f-7d18a884b0dd"
      },
      "execution_count": null,
      "outputs": [
        {
          "output_type": "execute_result",
          "data": {
            "text/plain": [
              "10"
            ]
          },
          "metadata": {},
          "execution_count": 20
        }
      ]
    },
    {
      "cell_type": "code",
      "source": [
        "a = \"Python is best choice\"\n",
        "a.index('b')"
      ],
      "metadata": {
        "colab": {
          "base_uri": "https://localhost:8080/"
        },
        "id": "rN507IBR3z4u",
        "outputId": "51258f11-96d9-43ab-8592-3d4c38cdd0ec"
      },
      "execution_count": null,
      "outputs": [
        {
          "output_type": "execute_result",
          "data": {
            "text/plain": [
              "10"
            ]
          },
          "metadata": {},
          "execution_count": 21
        }
      ]
    },
    {
      "cell_type": "code",
      "source": [
        "a = \"Python is best choice\"\n",
        "a.find('is')"
      ],
      "metadata": {
        "colab": {
          "base_uri": "https://localhost:8080/"
        },
        "id": "syryIdmf3z63",
        "outputId": "45ab5937-46de-4174-dacd-6dc6b5cae6b0"
      },
      "execution_count": null,
      "outputs": [
        {
          "output_type": "execute_result",
          "data": {
            "text/plain": [
              "7"
            ]
          },
          "metadata": {},
          "execution_count": 22
        }
      ]
    },
    {
      "cell_type": "code",
      "source": [
        "a = \"Python is best choice\"\n",
        "a.index('is')"
      ],
      "metadata": {
        "colab": {
          "base_uri": "https://localhost:8080/"
        },
        "id": "J8xeJ2QD3z9G",
        "outputId": "47a6717b-0548-45e9-84c7-1384bfae118d"
      },
      "execution_count": null,
      "outputs": [
        {
          "output_type": "execute_result",
          "data": {
            "text/plain": [
              "7"
            ]
          },
          "metadata": {},
          "execution_count": 23
        }
      ]
    },
    {
      "cell_type": "code",
      "source": [
        "a = \"Python is best choice\"\n",
        "a.find('k')"
      ],
      "metadata": {
        "colab": {
          "base_uri": "https://localhost:8080/"
        },
        "id": "SXBs_Z8v3z_X",
        "outputId": "c7d22704-e9d1-4ca6-9ed9-b2dc8ce6aae0"
      },
      "execution_count": null,
      "outputs": [
        {
          "output_type": "execute_result",
          "data": {
            "text/plain": [
              "-1"
            ]
          },
          "metadata": {},
          "execution_count": 24
        }
      ]
    },
    {
      "cell_type": "code",
      "source": [
        "a = \"Python is best choice\"\n",
        "a.index('k')"
      ],
      "metadata": {
        "colab": {
          "base_uri": "https://localhost:8080/",
          "height": 203
        },
        "id": "ZF1t_K_j30Br",
        "outputId": "5ee1b347-c170-4bc4-9543-7582c763eb09"
      },
      "execution_count": null,
      "outputs": [
        {
          "output_type": "error",
          "ename": "ValueError",
          "evalue": "ignored",
          "traceback": [
            "\u001b[0;31m---------------------------------------------------------------------------\u001b[0m",
            "\u001b[0;31mValueError\u001b[0m                                Traceback (most recent call last)",
            "\u001b[0;32m<ipython-input-25-7cebb813c144>\u001b[0m in \u001b[0;36m<cell line: 2>\u001b[0;34m()\u001b[0m\n\u001b[1;32m      1\u001b[0m \u001b[0ma\u001b[0m \u001b[0;34m=\u001b[0m \u001b[0;34m\"Python is best choice\"\u001b[0m\u001b[0;34m\u001b[0m\u001b[0;34m\u001b[0m\u001b[0m\n\u001b[0;32m----> 2\u001b[0;31m \u001b[0ma\u001b[0m\u001b[0;34m.\u001b[0m\u001b[0mindex\u001b[0m\u001b[0;34m(\u001b[0m\u001b[0;34m'k'\u001b[0m\u001b[0;34m)\u001b[0m\u001b[0;34m\u001b[0m\u001b[0;34m\u001b[0m\u001b[0m\n\u001b[0m",
            "\u001b[0;31mValueError\u001b[0m: substring not found"
          ]
        }
      ]
    },
    {
      "cell_type": "code",
      "source": [
        "a = \",\"\n",
        "a.join('abcd')"
      ],
      "metadata": {
        "colab": {
          "base_uri": "https://localhost:8080/",
          "height": 35
        },
        "id": "Bwdy2H7t4HR0",
        "outputId": "33e3f096-3a0e-4586-83e2-bd5cba76b209"
      },
      "execution_count": null,
      "outputs": [
        {
          "output_type": "execute_result",
          "data": {
            "text/plain": [
              "'a,b,c,d'"
            ],
            "application/vnd.google.colaboratory.intrinsic+json": {
              "type": "string"
            }
          },
          "metadata": {},
          "execution_count": 26
        }
      ]
    },
    {
      "cell_type": "code",
      "source": [
        "a = \"python\"\n",
        "a.upper()"
      ],
      "metadata": {
        "id": "iy7YfAP44HUK"
      },
      "execution_count": null,
      "outputs": []
    },
    {
      "cell_type": "code",
      "source": [
        "a = Python\n",
        "a.lower()"
      ],
      "metadata": {
        "id": "DZv0QeNw4HWd"
      },
      "execution_count": null,
      "outputs": []
    },
    {
      "cell_type": "code",
      "source": [
        "a = \"   파이썬    \"\n",
        "a.strip()"
      ],
      "metadata": {
        "id": "bo6mVhpk4HY1"
      },
      "execution_count": null,
      "outputs": []
    },
    {
      "cell_type": "code",
      "source": [
        "a = \"   파이썬    \"\n",
        "a.lstrip()"
      ],
      "metadata": {
        "id": "WnBQP_fh4HbF"
      },
      "execution_count": null,
      "outputs": []
    },
    {
      "cell_type": "code",
      "source": [
        "a = \"   파이썬    \"\n",
        "a.rstrip()"
      ],
      "metadata": {
        "id": "FNiIdlCq4HdQ"
      },
      "execution_count": null,
      "outputs": []
    },
    {
      "cell_type": "code",
      "source": [
        "a = \"Life is too short\"\n",
        "a.replace(\"Life\",\"Your leg\")"
      ],
      "metadata": {
        "id": "s4vqBhqb4f9-"
      },
      "execution_count": null,
      "outputs": []
    },
    {
      "cell_type": "code",
      "source": [
        "a = \"Life is too short\"\n",
        "a.split()"
      ],
      "metadata": {
        "colab": {
          "base_uri": "https://localhost:8080/"
        },
        "id": "v3kzvsEg4Hf6",
        "outputId": "9d94410a-c5d4-4f36-c946-5ef0ee7edc4c"
      },
      "execution_count": null,
      "outputs": [
        {
          "output_type": "execute_result",
          "data": {
            "text/plain": [
              "['Life', 'is', 'too', 'short']"
            ]
          },
          "metadata": {},
          "execution_count": 31
        }
      ]
    },
    {
      "cell_type": "markdown",
      "source": [
        "###실습문제"
      ],
      "metadata": {
        "id": "sfpb8OITDC8z"
      }
    },
    {
      "cell_type": "code",
      "source": [
        "s = input('문자열을 입력하세요: ')\n",
        "print(s[::-1])"
      ],
      "metadata": {
        "colab": {
          "base_uri": "https://localhost:8080/"
        },
        "id": "ifoIZE3O30Dw",
        "outputId": "09efc184-5f94-4e6a-bbae-6aad1a5799c7"
      },
      "execution_count": null,
      "outputs": [
        {
          "output_type": "stream",
          "name": "stdout",
          "text": [
            "문자열을 입력하세요: 사랑해요 파이썬!\n",
            "!썬이파 요해랑사\n"
          ]
        }
      ]
    },
    {
      "cell_type": "code",
      "source": [
        "a = input('파일을 입력하세요: ')\n",
        "a = a.split('.')\n",
        "print(a)\n",
        "print(f'파일명 : {a[0]}', f'확장자 : {a[1]}', sep=', ')\n"
      ],
      "metadata": {
        "colab": {
          "base_uri": "https://localhost:8080/"
        },
        "id": "_6sZxqhX30GX",
        "outputId": "f4b674ce-26a5-4083-e571-ff2e4508d112"
      },
      "execution_count": null,
      "outputs": [
        {
          "output_type": "stream",
          "name": "stdout",
          "text": [
            "파일을 입력하세요: test.py\n",
            "['test', 'py']\n",
            "파일명 : test, 확장자 : py\n"
          ]
        }
      ]
    },
    {
      "cell_type": "markdown",
      "source": [
        "날짜와 시간관련 모듈"
      ],
      "metadata": {
        "id": "rk8qiitzDct1"
      }
    },
    {
      "cell_type": "code",
      "source": [
        "import datetime\n",
        "type(datetime.datetime.now())\n"
      ],
      "metadata": {
        "colab": {
          "base_uri": "https://localhost:8080/"
        },
        "id": "myIo9yhgDJnT",
        "outputId": "fde87a79-18be-4ce6-dc3a-fc01a2f250c6"
      },
      "execution_count": null,
      "outputs": [
        {
          "output_type": "execute_result",
          "data": {
            "text/plain": [
              "datetime.datetime"
            ]
          },
          "metadata": {},
          "execution_count": 41
        }
      ]
    },
    {
      "cell_type": "code",
      "source": [
        "import datetime\n",
        "\n",
        "now = str(datetime.datetime.now())\n",
        "print(f'값    : {now}')\n",
        "print(f'자료형 : {type(now)}')\n",
        "\n",
        "print(f'지금 시각은 {now[:4]}년 {now[5:7]}월 {now[8:10]}일 {now[11:13]}시 {now[14:16]}분 {now[17:19]}초 입니다.')"
      ],
      "metadata": {
        "colab": {
          "base_uri": "https://localhost:8080/"
        },
        "id": "9lhK0QgrHeWs",
        "outputId": "68917772-1d4f-4a9a-c7c4-f6cfe80a030d"
      },
      "execution_count": null,
      "outputs": [
        {
          "output_type": "stream",
          "name": "stdout",
          "text": [
            "값    : 2023-08-08 03:13:47.620552\n",
            "자료형 : <class 'str'>\n",
            "지금 시각은 2023년 08월 08일 03시 13분 47초 입니다.\n"
          ]
        }
      ]
    },
    {
      "cell_type": "code",
      "source": [
        "import datetime\n",
        "\n",
        "now = datetime.datetime.now()\n",
        "print(now.strftime('지금 시간은 %Y년 %m월 %d일 %H시 %M분 %S초 입니다.'))"
      ],
      "metadata": {
        "colab": {
          "base_uri": "https://localhost:8080/"
        },
        "id": "q2pe2dh4H-mi",
        "outputId": "598c70ad-651d-4aee-8d84-e3aae71e11d0"
      },
      "execution_count": null,
      "outputs": [
        {
          "output_type": "stream",
          "name": "stdout",
          "text": [
            "지금 시간은 2023년 08월 08일 03시 18분 26초 입니다.\n"
          ]
        }
      ]
    },
    {
      "cell_type": "code",
      "source": [
        "import urllib.request\n",
        "import ssl\n",
        "\n",
        "ctx = ssl._create_unverified_context()\n",
        "\n",
        "#환율정보 페이지 불러오기\n",
        "print(\"[환율정보 불러오기]\")\n",
        "URL = \"https://search.naver.com/search.naver?where=nexearch&sm=top_hty&fbm=1&ie=utf8&query=%ED%99%98%EC%9C%A8\"\n",
        "page = urllib.request.urlopen(URL, context=ctx)\n",
        "text = page.read().decode(\"utf8\")  # 해당 페이지의 소스코드\n",
        "# print(text)\n",
        "\n",
        "#환율정보 가져오기: 기준시간\n",
        "searchText = 'class=\"grp_info\"> <em>'\n",
        "where      = text.find(searchText)  #소스코드에서 해당 문자열의 시작위치\n",
        "print(f'위치: {where}')\n",
        "targetInfo = text[where+len(searchText):where+len(searchText)+16]\n",
        "print(f'-환율기준시간: {targetInfo}')\n",
        "\n",
        "#환율정보 가져오기: 달러\n",
        "searchText = '<span>미국 <em>USD</em></span></a></th> <td><span>'\n",
        "where      = text.find(searchText)\n",
        "targetInfo = text[where+len(searchText):where+len(searchText)+8]\n",
        "print(f'-달러: {targetInfo}')\n",
        "\n",
        "#환율정보 가져오기: 유로화\n",
        "searchText = '<span>유럽연합 <em>EUR</em></span></a></th> <td><span>'\n",
        "where      = text.find(searchText)\n",
        "targetInfo = text[where+len(searchText):where+len(searchText)+8]\n",
        "print(f'-유로: {targetInfo}')\n",
        "\n",
        "#환율정보 가져오기: 위안화\n",
        "searchText = '<span>중국 <em>CNY</em></span></a></th> <td><span>'\n",
        "where      = text.find(searchText)\n",
        "targetInfo = text[where+len(searchText):where+len(searchText)+8]\n",
        "print(f'-위안화: {targetInfo}')\n"
      ],
      "metadata": {
        "colab": {
          "base_uri": "https://localhost:8080/"
        },
        "id": "NOIsyBMLH9yi",
        "outputId": "8f20175c-72d1-4b44-990c-83f76821f69d"
      },
      "execution_count": null,
      "outputs": [
        {
          "output_type": "stream",
          "name": "stdout",
          "text": [
            "[환율정보 불러오기]\n",
            "위치: 74032\n",
            "-환율기준시간: 2023.08.08 12:48\n",
            "-달러: 1,313.50\n",
            "-유로: 1,442.75\n",
            "-위안화: 181.89</\n"
          ]
        }
      ]
    },
    {
      "cell_type": "markdown",
      "source": [
        "실습문제"
      ],
      "metadata": {
        "id": "YtAUkxv-lvAv"
      }
    },
    {
      "cell_type": "code",
      "source": [
        "money = int(input(\"동전으로 교환할 금액을 입력하세요: \"))\n",
        "print('-' * 30)\n",
        "print(f'50000원짜리 지폐: {money // 50000} 장')\n",
        "money = money % 50000\n",
        "print(f'10000원짜리 지폐: {money // 10000} 장')\n",
        "money = money % 10000\n",
        "print(f'5000원짜리 지폐: {money // 5000} 장')\n",
        "money = money % 5000\n",
        "print(f'1000원짜리 지폐: {money // 1000} 장')\n",
        "money = money % 1000\n",
        "print(f'500원짜리 동전: {money // 500} 개')\n",
        "money = money % 500\n",
        "print(f'100원짜리 동전: {money // 100} 개')\n",
        "money = money % 100\n",
        "print(f'50원짜리 동전: {money // 50} 개')\n",
        "money = money % 50\n",
        "print(f'10원짜리 동전: {money // 10} 개')\n",
        "money = money % 10\n",
        "print(f'잔돈: {money} 원')"
      ],
      "metadata": {
        "colab": {
          "base_uri": "https://localhost:8080/"
        },
        "id": "Tu-OteEoHx2X",
        "outputId": "29fd90d8-004d-4573-e514-ebf1a2b41400"
      },
      "execution_count": null,
      "outputs": [
        {
          "output_type": "stream",
          "name": "stdout",
          "text": [
            "동전으로 교환할 금액을 입력하세요: 637890\n",
            "------------------------------\n",
            "50000원짜리 지폐: 12 장\n",
            "10000원짜리 지폐: 3 장\n",
            "5000원짜리 지폐: 1 장\n",
            "1000원짜리 지폐: 2 장\n",
            "500원짜리 동전: 1 개\n",
            "100원짜리 동전: 3 개\n",
            "50원짜리 동전: 1 개\n",
            "10원짜리 동전: 4 개\n",
            "잔돈: 0 원\n"
          ]
        }
      ]
    },
    {
      "cell_type": "markdown",
      "source": [
        "If 문"
      ],
      "metadata": {
        "id": "7IoeQbmFlvCH"
      }
    },
    {
      "cell_type": "code",
      "source": [
        "#if\n",
        "a = 500\n",
        "if a < 1000:\n",
        "    print(f'{a}는 100보다 작군요!')"
      ],
      "metadata": {
        "id": "DPCxBKNWrR1-"
      },
      "execution_count": null,
      "outputs": []
    },
    {
      "cell_type": "code",
      "source": [
        "a = 1500\n",
        "if a <1000:\n",
        "    print(f'{a}는 1000보다 작군요!')\n",
        "else:\n",
        "    print(f'{a}는 1000보다 크거나 같군요!')"
      ],
      "metadata": {
        "colab": {
          "base_uri": "https://localhost:8080/"
        },
        "id": "0Dc2rCbZrR3S",
        "outputId": "07b187cd-90db-4ca6-f160-67f9fe0cb5b0"
      },
      "execution_count": null,
      "outputs": [
        {
          "output_type": "stream",
          "name": "stdout",
          "text": [
            "1500는 1000보다 크거나 같군요!\n"
          ]
        }
      ]
    },
    {
      "cell_type": "code",
      "source": [
        "온도 = float(input('온도를 입력해주세요: '))\n",
        "\n",
        "if 온도 > 30:\n",
        "  if 온도 > 35:\n",
        "    print(\"무척 덥군요!\")\n",
        "  else:\n",
        "    print('덥군요!')\n",
        "else:\n",
        "    if 10 < 온도 <= 30:\n",
        "      print('쾌적한 온도 입니다!')\n",
        "    else:\n",
        "        print('추운 온도네요!')\n"
      ],
      "metadata": {
        "colab": {
          "base_uri": "https://localhost:8080/"
        },
        "id": "JVmHbi1BuPQd",
        "outputId": "2bf4a81a-f927-46d4-e3ff-2b464ea7fba1"
      },
      "execution_count": null,
      "outputs": [
        {
          "output_type": "stream",
          "name": "stdout",
          "text": [
            "온도를 입력해주세요: 19\n",
            "쾌적한 온도 입니다!\n"
          ]
        }
      ]
    },
    {
      "cell_type": "code",
      "source": [
        "#if elif else\n",
        "온도 = float(input('온도를 입력해주세요: '))\n",
        "\n",
        "if 온도 > 35:\n",
        "  print('무척 덥군요!')\n",
        "elif 온도 > 30:\n",
        "  print('덥군요!')\n",
        "elif 온도 > 10:\n",
        "  print('쾌적한 온도 입니다!')\n",
        "else:\n",
        "  print('추운 온도네요!')\n"
      ],
      "metadata": {
        "colab": {
          "base_uri": "https://localhost:8080/"
        },
        "id": "Y47mCF39vbcM",
        "outputId": "e133aa27-7276-4a8d-8dbb-4e3408bd8b4e"
      },
      "execution_count": null,
      "outputs": [
        {
          "output_type": "stream",
          "name": "stdout",
          "text": [
            "온도를 입력해주세요: 1\n",
            "추운 온도네요!\n"
          ]
        }
      ]
    },
    {
      "cell_type": "code",
      "source": [
        "a = int(input('숫자를 입력해 주세요: '))\n",
        "if a % 2 == 0:\n",
        "  print('a는 짝수 입니다.')\n",
        "else:\n",
        "  print('a는 홀수 입니다.')"
      ],
      "metadata": {
        "colab": {
          "base_uri": "https://localhost:8080/"
        },
        "id": "RTF19_bK2R-x",
        "outputId": "300e74ba-62f2-4271-fa34-d46229731fd2"
      },
      "execution_count": null,
      "outputs": [
        {
          "output_type": "stream",
          "name": "stdout",
          "text": [
            "숫자를 입력해 주세요: 3\n",
            "x는 홀수 입니다.\n"
          ]
        }
      ]
    },
    {
      "cell_type": "code",
      "source": [
        "score = int(input('성적을 입력해 주세요: '))\n",
        "if score >= 90:\n",
        "     grade = ('A')\n",
        "elif score >= 80:\n",
        "     grade = ('B')\n",
        "elif score >=70:\n",
        "     grade =('C')\n",
        "else:\n",
        "     grade = ('D')\n",
        "print(f'{score}는 {grade} 입니다')\n"
      ],
      "metadata": {
        "colab": {
          "base_uri": "https://localhost:8080/"
        },
        "id": "aXzD5YWa3qGO",
        "outputId": "3874ad6a-cd5c-4bec-a455-a706430c0c4e"
      },
      "execution_count": null,
      "outputs": [
        {
          "output_type": "stream",
          "name": "stdout",
          "text": [
            "성적을 입력해 주세요: 89\n",
            "89는 B 입니다\n"
          ]
        }
      ]
    },
    {
      "cell_type": "code",
      "source": [
        "userid = input('주민번호: ')\n",
        "yy = userid[:2]   # 년도\n",
        "mm = userid[2:4]  # 월\n",
        "dd = userid[4:6]  # 일\n",
        "\n",
        "# gender확인\n",
        "if userid[7] == '1':\n",
        "  gender = '남성'\n",
        "  yy = 1900 + int(yy)\n",
        "if userid[7] == '2':\n",
        "  gender = '여성'\n",
        "  yy = 1900 + int(yy)\n",
        "if userid[7] == '3':\n",
        "  gender = '남성'\n",
        "  yy = 2000 + int(yy)\n",
        "if userid[7] == '4':\n",
        "  gender = '여성'\n",
        "  yy = 2000 + int(yy)\n",
        "\n",
        "import datetime\n",
        "now  = datetime.datetime.now()\n",
        "age = now.year - yy       # 나이 계산\n",
        "\n",
        "print(f'{yy}년 {mm}월 {dd}일, {age}세, {gender}')\n"
      ],
      "metadata": {
        "id": "Knzvrrzg8fV8"
      },
      "execution_count": null,
      "outputs": []
    },
    {
      "cell_type": "code",
      "source": [
        "coffee1_price = 2500\n",
        "coffee2_price = 3000\n",
        "coffee3_price = 3000\n",
        "menu = f''' [커피 자동주문 머신 메뉴]\n",
        "----------------------\n",
        "- 아메리카노 : {coffee1_price}원\n",
        "- 카페라떼:    {coffee2_price}원\n",
        "- 카푸치노:    {coffee3_price}원\n",
        "----------------------\n",
        "원하시는 커피종류와 잔수를 입력하세요!\n",
        "'''\n",
        "print(menu)\n",
        "coffee1= int(input('아메리카노 몇잔: '))\n",
        "coffee2= int(input('카페라떼   몇잔: '))\n",
        "coffee3= int(input('카푸치노   몇잔: '))\n",
        "\n",
        "total = coffee1_price*coffee1 + coffee2_price*coffee2 + coffee3_price*coffee3\n",
        "print(f'주문하신 총 가격은 {total}원 입니다. 돈을 입력해주세요')\n",
        "\n",
        "money = int(input('돈을 입력해주세요: '))\n",
        "if total > money:\n",
        "  print(f'{total-money}원이 부족합니다. 돈을 더 넣어주세요')\n",
        "else:\n",
        "  print(f'잔돈은{money-total}원입니다. 커피 맛있게 드세요')"
      ],
      "metadata": {
        "colab": {
          "base_uri": "https://localhost:8080/"
        },
        "id": "xyfxczMyFffK",
        "outputId": "6e33f87a-46ac-4444-b78d-a182f825aefa"
      },
      "execution_count": null,
      "outputs": [
        {
          "output_type": "stream",
          "name": "stdout",
          "text": [
            " [커피 자동주문 머신 메뉴]\n",
            "----------------------\n",
            "- 아메리카노 : 2500원\n",
            "- 카페라떼:    3000원\n",
            "- 카푸치노:    3000원\n",
            "----------------------\n",
            "원하시는 커피종류와 잔수를 입력하세요!\n",
            "\n",
            "아메리카노 몇잔: 2\n",
            "카페라떼   몇잔: 1\n",
            "카푸치노   몇잔: 1\n",
            "주문하신 총 가격은 11000원 입니다. 돈을 입력해주세요\n",
            "돈을 입력해주세요: 11000\n",
            "잔돈은0원입니다. 커피 맛있게 드세요\n"
          ]
        }
      ]
    }
  ]
}