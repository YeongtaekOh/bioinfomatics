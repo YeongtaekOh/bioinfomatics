{
  "nbformat": 4,
  "nbformat_minor": 0,
  "metadata": {
    "colab": {
      "provenance": [],
      "authorship_tag": "ABX9TyOeNkpek2LIqLGR9XuBZHMl",
      "include_colab_link": true
    },
    "kernelspec": {
      "name": "python3",
      "display_name": "Python 3"
    },
    "language_info": {
      "name": "python"
    }
  },
  "cells": [
    {
      "cell_type": "markdown",
      "metadata": {
        "id": "view-in-github",
        "colab_type": "text"
      },
      "source": [
        "<a href=\"https://colab.research.google.com/github/YeongtaekOh/bioinfomatics/blob/main/01_%ED%8C%8C%EC%9D%B4%EC%8D%AC_3%EC%9D%BC%EC%B0%A8_%EC%8B%A4%EC%8A%B5.ipynb\" target=\"_parent\"><img src=\"https://colab.research.google.com/assets/colab-badge.svg\" alt=\"Open In Colab\"/></a>"
      ]
    },
    {
      "cell_type": "code",
      "execution_count": null,
      "metadata": {
        "colab": {
          "base_uri": "https://localhost:8080/"
        },
        "id": "LulSQaIi2KqD",
        "outputId": "46c13702-3472-4601-d95f-93d9242c39cb"
      },
      "outputs": [
        {
          "output_type": "stream",
          "name": "stdout",
          "text": [
            "2 안녕하세요? for 문 반복중입니다\n",
            "4 안녕하세요? for 문 반복중입니다\n",
            "6 안녕하세요? for 문 반복중입니다\n",
            "8 안녕하세요? for 문 반복중입니다\n"
          ]
        }
      ],
      "source": [
        "#반복문\n",
        "## for 반복문\n",
        "### range 함수 사용\n",
        "\n",
        "for a in range(2, 10, 2):\n",
        "  print(f'{a} 안녕하세요? for 문 반복중입니다')"
      ]
    },
    {
      "cell_type": "code",
      "source": [
        "for 번호 in [1,2,3,4444,[3,4,5]]:\n",
        "  print(f'{번호} 안녕하세요. 파이썬 수업시간입니다')"
      ],
      "metadata": {
        "colab": {
          "base_uri": "https://localhost:8080/"
        },
        "id": "A8h_dOFu_Nh5",
        "outputId": "c852c53f-b72d-4cf5-afff-29a1df4c97b1"
      },
      "execution_count": null,
      "outputs": [
        {
          "output_type": "stream",
          "name": "stdout",
          "text": [
            "1 안녕하세요. 파이썬 수업시간입니다\n",
            "2 안녕하세요. 파이썬 수업시간입니다\n",
            "3 안녕하세요. 파이썬 수업시간입니다\n",
            "4444 안녕하세요. 파이썬 수업시간입니다\n",
            "[3, 4, 5] 안녕하세요. 파이썬 수업시간입니다\n"
          ]
        }
      ]
    },
    {
      "cell_type": "code",
      "source": [
        "hap = 0\n",
        "for i in range (1,101,1):\n",
        "  hap+= i\n",
        "print(f'1 - 100까지 정수의 합은: {hap}')"
      ],
      "metadata": {
        "colab": {
          "base_uri": "https://localhost:8080/"
        },
        "id": "wAOmS9AiBq4p",
        "outputId": "1a7756cf-1d3a-4e7e-808a-ad18179ae1c8"
      },
      "execution_count": null,
      "outputs": [
        {
          "output_type": "stream",
          "name": "stdout",
          "text": [
            "1 - 100까지 정수의 합은: 5050\n"
          ]
        }
      ]
    },
    {
      "cell_type": "code",
      "source": [
        "a = [70, 60, 55, 100 ,75, 90, 30, 20, 10, 45]\n",
        "hap = 0\n",
        "for i in a:\n",
        "  hap += i\n",
        "  print(f'리스트 {a}의 모든 요소의 합은 {hap}')"
      ],
      "metadata": {
        "colab": {
          "base_uri": "https://localhost:8080/"
        },
        "id": "r5ZOi8_9FLv6",
        "outputId": "eaf489de-5453-4567-b48f-71fbb065a59e"
      },
      "execution_count": null,
      "outputs": [
        {
          "output_type": "stream",
          "name": "stdout",
          "text": [
            "리스트 [70, 60, 55, 100, 75, 90, 30, 20, 10, 45]의 모든 요소의 합은 70\n",
            "리스트 [70, 60, 55, 100, 75, 90, 30, 20, 10, 45]의 모든 요소의 합은 130\n",
            "리스트 [70, 60, 55, 100, 75, 90, 30, 20, 10, 45]의 모든 요소의 합은 185\n",
            "리스트 [70, 60, 55, 100, 75, 90, 30, 20, 10, 45]의 모든 요소의 합은 285\n",
            "리스트 [70, 60, 55, 100, 75, 90, 30, 20, 10, 45]의 모든 요소의 합은 360\n",
            "리스트 [70, 60, 55, 100, 75, 90, 30, 20, 10, 45]의 모든 요소의 합은 450\n",
            "리스트 [70, 60, 55, 100, 75, 90, 30, 20, 10, 45]의 모든 요소의 합은 480\n",
            "리스트 [70, 60, 55, 100, 75, 90, 30, 20, 10, 45]의 모든 요소의 합은 500\n",
            "리스트 [70, 60, 55, 100, 75, 90, 30, 20, 10, 45]의 모든 요소의 합은 510\n",
            "리스트 [70, 60, 55, 100, 75, 90, 30, 20, 10, 45]의 모든 요소의 합은 555\n"
          ]
        }
      ]
    },
    {
      "cell_type": "code",
      "source": [
        "print(f'리스트 {a}의 모든 요소 중 제일 큰수 {max(a)}')\n",
        "print (f'리스트 {a}의 모든 요소 중 제일 작은 수 {min(a)}')\n",
        "print (f'리스트 {a}의 모든 요소의 합 {sum(a)}')\n",
        "print (f'리스트 {a}의 모든 요소의 평균 {sum(a) / len(a)}')"
      ],
      "metadata": {
        "colab": {
          "base_uri": "https://localhost:8080/"
        },
        "id": "Tp9UztzYGXwQ",
        "outputId": "78dd60af-9eef-4b51-fde4-4242fc8bfc8d"
      },
      "execution_count": null,
      "outputs": [
        {
          "output_type": "stream",
          "name": "stdout",
          "text": [
            "리스트 [70, 60, 55, 100, 75, 90, 30, 20, 10, 45]의 모든 요소 중 제일 큰수 100\n",
            "리스트 [70, 60, 55, 100, 75, 90, 30, 20, 10, 45]의 모든 요소 중 제일 작은 수 10\n",
            "리스트 [70, 60, 55, 100, 75, 90, 30, 20, 10, 45]의 모든 요소의 합 555\n",
            "리스트 [70, 60, 55, 100, 75, 90, 30, 20, 10, 45]의 모든 요소의 평균 55.5\n"
          ]
        }
      ]
    },
    {
      "cell_type": "code",
      "source": [
        "n=int(input('합계를 구할 숫자 입력: '))\n",
        "print(f'1부터 {n}까지의 합은: {sum(list(range(1,int( n+1))))}')"
      ],
      "metadata": {
        "colab": {
          "base_uri": "https://localhost:8080/"
        },
        "id": "otFSUG6ZH6T8",
        "outputId": "3e6d4076-7dfb-4e3c-e123-640f4804bda6"
      },
      "execution_count": null,
      "outputs": [
        {
          "output_type": "stream",
          "name": "stdout",
          "text": [
            "합계를 구할 숫자 입력: 7\n",
            "1부터 7까지의 합은: 28\n"
          ]
        }
      ]
    },
    {
      "cell_type": "code",
      "source": [
        "### 실습문제\n",
        "a_list = list(input('괄호 문장을 입력하세요: '))\n",
        "print(a_list)\n",
        "\n",
        "total = 0           # 괄호의 합\n",
        "for p in a_list:\n",
        "  if p == '(':\n",
        "    total += 1\n",
        "  elif p == ')':\n",
        "    total -= 1\n",
        "  if total < 0:\n",
        "    break\n",
        "\n",
        "if total == 0 :\n",
        "  print('결과: True')\n",
        "else:\n",
        "  print('결과: False')"
      ],
      "metadata": {
        "colab": {
          "base_uri": "https://localhost:8080/"
        },
        "id": "dyVzO9yzKmo5",
        "outputId": "7c3c5afb-7258-4cc8-9abd-c4314124adac"
      },
      "execution_count": null,
      "outputs": [
        {
          "output_type": "stream",
          "name": "stderr",
          "text": [
            "\n",
            "KeyboardInterrupt\n",
            "\n"
          ]
        }
      ]
    },
    {
      "cell_type": "code",
      "source": [
        "x=int(input('구구단 단중 몇단을 출력 해드릴까요?:'))\n",
        "for i in range(1,10,):\n",
        "  print(f'{x} X {i} = {n*i:>2}')"
      ],
      "metadata": {
        "colab": {
          "base_uri": "https://localhost:8080/"
        },
        "id": "gnkNiYDzUfkB",
        "outputId": "565ae9b3-428a-49cd-e389-9cba1cae6860"
      },
      "execution_count": null,
      "outputs": [
        {
          "output_type": "stream",
          "name": "stdout",
          "text": [
            "구구단 단중 몇단을 출력 해드릴까요?:5\n",
            "5 X 1 =  5\n",
            "5 X 2 = 10\n",
            "5 X 3 = 15\n",
            "5 X 4 = 20\n",
            "5 X 5 = 25\n",
            "5 X 6 = 30\n",
            "5 X 7 = 35\n",
            "5 X 8 = 40\n",
            "5 X 9 = 45\n"
          ]
        }
      ]
    },
    {
      "cell_type": "code",
      "source": [
        "for i in range(2,10):\n",
        "  print(f'# {i}단 ', end=' ')\n",
        "# print()  # '\\n'\n",
        "print('\\n'+'-'*60)\n",
        "\n",
        "for i in range(1,10):\n",
        "  for k in range(2,10):\n",
        "    print(f'{k}x{i}={i*k:>2}', end=' ')\n",
        "  print()"
      ],
      "metadata": {
        "colab": {
          "base_uri": "https://localhost:8080/"
        },
        "id": "1TT7pnhOWoZf",
        "outputId": "5989d245-07fd-4163-f262-6264225ea7cc"
      },
      "execution_count": null,
      "outputs": [
        {
          "output_type": "stream",
          "name": "stdout",
          "text": [
            "# 2단  # 3단  # 4단  # 5단  # 6단  # 7단  # 8단  # 9단  \n",
            "------------------------------------------------------------\n",
            "2x1= 2 3x1= 3 4x1= 4 5x1= 5 6x1= 6 7x1= 7 8x1= 8 9x1= 9 \n",
            "2x2= 4 3x2= 6 4x2= 8 5x2=10 6x2=12 7x2=14 8x2=16 9x2=18 \n",
            "2x3= 6 3x3= 9 4x3=12 5x3=15 6x3=18 7x3=21 8x3=24 9x3=27 \n",
            "2x4= 8 3x4=12 4x4=16 5x4=20 6x4=24 7x4=28 8x4=32 9x4=36 \n",
            "2x5=10 3x5=15 4x5=20 5x5=25 6x5=30 7x5=35 8x5=40 9x5=45 \n",
            "2x6=12 3x6=18 4x6=24 5x6=30 6x6=36 7x6=42 8x6=48 9x6=54 \n",
            "2x7=14 3x7=21 4x7=28 5x7=35 6x7=42 7x7=49 8x7=56 9x7=63 \n",
            "2x8=16 3x8=24 4x8=32 5x8=40 6x8=48 7x8=56 8x8=64 9x8=72 \n",
            "2x9=18 3x9=27 4x9=36 5x9=45 6x9=54 7x9=63 8x9=72 9x9=81 \n"
          ]
        }
      ]
    },
    {
      "cell_type": "code",
      "source": [
        "#난수\n",
        "import random\n",
        "print(random.randint(1,10))\n",
        "print(random.randrange(1, 11, 1))\n",
        "\n",
        "print(random.random())\n",
        "print(random.uniform(0.5, 1))\n",
        "\n",
        "a= [1,2,3,4,5,6,7,8,9,10]\n",
        "range(1,10)\n",
        "print(a)\n",
        "random.shuffle(a)\n",
        "print(a)\n",
        "\n",
        "print(random.choice(a))\n",
        "\n",
        "print('로또번호 출력', random.sample(range(1,46),6))"
      ],
      "metadata": {
        "colab": {
          "base_uri": "https://localhost:8080/"
        },
        "id": "-s4Y7Vx0uFZP",
        "outputId": "8caa8380-c8db-47b5-a020-2155cc111506"
      },
      "execution_count": null,
      "outputs": [
        {
          "output_type": "stream",
          "name": "stdout",
          "text": [
            "2\n",
            "1\n",
            "0.5043134764151648\n",
            "0.5467299740893137\n",
            "[1, 2, 3, 4, 5, 6, 7, 8, 9, 10]\n",
            "[2, 7, 10, 4, 6, 5, 9, 3, 8, 1]\n",
            "8\n",
            "로또번호 출력 [10, 45, 40, 27, 20, 18]\n"
          ]
        }
      ]
    },
    {
      "cell_type": "code",
      "source": [
        "import random\n",
        "print('주사위 던지기 게임입니다.')\n",
        "n = int(input)\n",
        "print('n번째 시도')\n",
        "a = [1,2,3,4,5,6,]\n",
        "print(random.choice(a))"
      ],
      "metadata": {
        "id": "u_-FclzDzvEB"
      },
      "execution_count": null,
      "outputs": []
    },
    {
      "cell_type": "code",
      "source": [
        "import random\n",
        "\n",
        "dice = [0,0,0,0,0,0]\n",
        "for i in range(10):\n",
        "  num = random.randint(1, 6)\n",
        "  dice[num-1] = dice[num-1] + 1\n",
        "  print(f'{i+1}회 시도 - 나온 수({num}), 주사위:{dice}')\n",
        "\n"
      ],
      "metadata": {
        "colab": {
          "base_uri": "https://localhost:8080/"
        },
        "id": "Pb356R2c4Afs",
        "outputId": "7449e190-c7f3-4515-dc64-923642fcf69a"
      },
      "execution_count": null,
      "outputs": [
        {
          "output_type": "stream",
          "name": "stdout",
          "text": [
            "1회 시도 - 나온 수(2), 주사위:[0, 1, 0, 0, 0, 0]\n",
            "2회 시도 - 나온 수(5), 주사위:[0, 1, 0, 0, 1, 0]\n",
            "3회 시도 - 나온 수(6), 주사위:[0, 1, 0, 0, 1, 1]\n",
            "4회 시도 - 나온 수(2), 주사위:[0, 2, 0, 0, 1, 1]\n",
            "5회 시도 - 나온 수(1), 주사위:[1, 2, 0, 0, 1, 1]\n",
            "6회 시도 - 나온 수(6), 주사위:[1, 2, 0, 0, 1, 2]\n",
            "7회 시도 - 나온 수(6), 주사위:[1, 2, 0, 0, 1, 3]\n",
            "8회 시도 - 나온 수(1), 주사위:[2, 2, 0, 0, 1, 3]\n",
            "9회 시도 - 나온 수(4), 주사위:[2, 2, 0, 1, 1, 3]\n",
            "10회 시도 - 나온 수(1), 주사위:[3, 2, 0, 1, 1, 3]\n"
          ]
        }
      ]
    },
    {
      "cell_type": "code",
      "source": [
        "treehit = 0\n",
        "while treehit < 10:\n",
        "  treehit +=1\n",
        "  print(f\"나무를 {treehit}번 찍었습니다.\")\n",
        "  if treehit == 10:\n",
        "    print(\"넘어간다~\")"
      ],
      "metadata": {
        "colab": {
          "base_uri": "https://localhost:8080/"
        },
        "id": "YaalXX0YHsaI",
        "outputId": "e319648a-5f41-491b-a693-41d86e6a4e04"
      },
      "execution_count": null,
      "outputs": [
        {
          "output_type": "stream",
          "name": "stdout",
          "text": [
            "나무를 1번 찍었습니다.\n",
            "나무를 2번 찍었습니다.\n",
            "나무를 3번 찍었습니다.\n",
            "나무를 4번 찍었습니다.\n",
            "나무를 5번 찍었습니다.\n",
            "나무를 6번 찍었습니다.\n",
            "나무를 7번 찍었습니다.\n",
            "나무를 8번 찍었습니다.\n",
            "나무를 9번 찍었습니다.\n",
            "나무를 10번 찍었습니다.\n",
            "넘어간다~\n"
          ]
        }
      ]
    }
  ]
}