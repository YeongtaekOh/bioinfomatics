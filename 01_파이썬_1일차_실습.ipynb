{
  "nbformat": 4,
  "nbformat_minor": 0,
  "metadata": {
    "colab": {
      "provenance": [],
      "authorship_tag": "ABX9TyPw3IlOyCgoFjsbe7ZJmm97",
      "include_colab_link": true
    },
    "kernelspec": {
      "name": "python3",
      "display_name": "Python 3"
    },
    "language_info": {
      "name": "python"
    }
  },
  "cells": [
    {
      "cell_type": "markdown",
      "metadata": {
        "id": "view-in-github",
        "colab_type": "text"
      },
      "source": [
        "<a href=\"https://colab.research.google.com/github/YeongtaekOh/bioinfomatics/blob/main/01_%ED%8C%8C%EC%9D%B4%EC%8D%AC_1%EC%9D%BC%EC%B0%A8_%EC%8B%A4%EC%8A%B5.ipynb\" target=\"_parent\"><img src=\"https://colab.research.google.com/assets/colab-badge.svg\" alt=\"Open In Colab\"/></a>"
      ]
    },
    {
      "cell_type": "code",
      "execution_count": 8,
      "metadata": {
        "colab": {
          "base_uri": "https://localhost:8080/"
        },
        "id": "rxWQ_SG_dd1M",
        "outputId": "429e04ff-43c7-4080-e877-745d9b756044"
      },
      "outputs": [
        {
          "output_type": "stream",
          "name": "stdout",
          "text": [
            "<class 'float'>\n",
            "<class 'int'>\n",
            "<class 'str'>\n",
            "150\n",
            "파이썬\n"
          ]
        }
      ],
      "source": [
        "##파이썬 사료형\n",
        "#데이터 형태를 확인해 주는 함수: type()\n",
        "#화면에 출력해주는 함수: print()\n",
        "print(type(100.4))\n",
        "print(type(100))\n",
        "print(type(\"파이썬\"))\n",
        "\n"
      ]
    },
    {
      "cell_type": "code",
      "source": [
        "#변수에 넣어서 확인\n",
        "a = 100\n",
        "b = 50\n",
        "c= '파이썬'\n",
        "print(a+b)\n",
        "print(c)"
      ],
      "metadata": {
        "id": "3audFfYSh680"
      },
      "execution_count": null,
      "outputs": []
    },
    {
      "cell_type": "code",
      "source": [
        "사과 = '수박'\n",
        "print(사과)"
      ],
      "metadata": {
        "id": "eGlQDHOViADc"
      },
      "execution_count": null,
      "outputs": []
    },
    {
      "cell_type": "code",
      "source": [
        "a = 3.14\n",
        "b = 314.0\n",
        "print(int(a))\n",
        "print(float(b))"
      ],
      "metadata": {
        "colab": {
          "base_uri": "https://localhost:8080/"
        },
        "id": "5oBZ9MliiFir",
        "outputId": "31102b4a-b47c-4f26-b638-84e7be9baf76"
      },
      "execution_count": 15,
      "outputs": [
        {
          "output_type": "stream",
          "name": "stdout",
          "text": [
            "3\n",
            "314.0\n"
          ]
        }
      ]
    },
    {
      "cell_type": "code",
      "source": [
        "##문자열형\n",
        "#+ :문자열을 붙여서 표현한다\n",
        "print('오늘은'+'파이썬 첫쨰날')\n",
        "print('오늘은' , '파이썬 첫째날')"
      ],
      "metadata": {
        "colab": {
          "base_uri": "https://localhost:8080/"
        },
        "id": "DWunpJL5oR0S",
        "outputId": "08e293b6-97de-4c03-af7a-dd4817f602e1"
      },
      "execution_count": 12,
      "outputs": [
        {
          "output_type": "stream",
          "name": "stdout",
          "text": [
            "오늘은파이썬 첫쨰날\n",
            "오늘은 파이썬 첫째날\n"
          ]
        }
      ]
    },
    {
      "cell_type": "code",
      "source": [
        "# * : 문자열을 반복한다.\n",
        "print('반짝'*5)\n",
        "print('_'*50)"
      ],
      "metadata": {
        "colab": {
          "base_uri": "https://localhost:8080/"
        },
        "id": "smIZQesFp4Iv",
        "outputId": "273ac3a8-0f35-4f08-a77a-85536dc382d9"
      },
      "execution_count": 17,
      "outputs": [
        {
          "output_type": "stream",
          "name": "stdout",
          "text": [
            "반짝반짝반짝반짝반짝\n",
            "__________________________________________________\n"
          ]
        }
      ]
    },
    {
      "cell_type": "code",
      "source": [
        "#Bool타입\n",
        "a = True\n",
        "b = False\n",
        "print(a,b)\n",
        "\n",
        "a = 100\n",
        "b = 200\n",
        "print(a > b)\n",
        "print(type(a > b))"
      ],
      "metadata": {
        "colab": {
          "base_uri": "https://localhost:8080/"
        },
        "id": "wPJA_u7uqhyM",
        "outputId": "c77a4b03-6db6-4710-8342-15ef8f769ab8"
      },
      "execution_count": 24,
      "outputs": [
        {
          "output_type": "stream",
          "name": "stdout",
          "text": [
            "True False\n",
            "False\n",
            "<class 'bool'>\n"
          ]
        }
      ]
    },
    {
      "cell_type": "markdown",
      "source": [],
      "metadata": {
        "id": "whQmzKISsu5a"
      }
    },
    {
      "cell_type": "code",
      "source": [
        "# 파이썬으로 사칙연산 하기 프로그램\n",
        "a = input()\n",
        "print('a의 값은: ',a , type(a))"
      ],
      "metadata": {
        "colab": {
          "base_uri": "https://localhost:8080/"
        },
        "id": "Xc1ZqKwDswyj",
        "outputId": "6ed0626b-56d1-4198-83b2-f14dae3d899c"
      },
      "execution_count": 29,
      "outputs": [
        {
          "output_type": "stream",
          "name": "stdout",
          "text": [
            "0.9\n",
            "a의 값은:  0.9 <class 'str'>\n"
          ]
        }
      ]
    },
    {
      "cell_type": "code",
      "source": [
        "a = input('키보드로 입력하세요: ')\n",
        "a = int(a)\n",
        "print('a의 값은: ', a, type(a))"
      ],
      "metadata": {
        "colab": {
          "base_uri": "https://localhost:8080/"
        },
        "id": "-cDfdZBjtpGC",
        "outputId": "7845c697-8fcc-4004-a1a5-90a5007e1c4c"
      },
      "execution_count": 32,
      "outputs": [
        {
          "output_type": "stream",
          "name": "stdout",
          "text": [
            "키보드로 입력하세요: 10\n",
            "a의 값은:  10 <class 'int'>\n"
          ]
        }
      ]
    },
    {
      "cell_type": "code",
      "source": [
        "a = int(input('키보드로 입력하세요: ' ))"
      ],
      "metadata": {
        "colab": {
          "base_uri": "https://localhost:8080/"
        },
        "id": "l_P1j5YzuIuH",
        "outputId": "f53d5e5b-e853-4f7b-bab6-ab292e297a04"
      },
      "execution_count": 34,
      "outputs": [
        {
          "name": "stdout",
          "output_type": "stream",
          "text": [
            "키보드로 입력하세요: 19\n"
          ]
        }
      ]
    },
    {
      "cell_type": "code",
      "source": [
        "num1 = int(input('첫 번쨰 숫자: '))\n",
        "num2 = int(input('두 번째 숫자:' ))\n",
        "print('-' * 30)\n",
        "print('덧셈: %d + %d =%d' % (num1,num2, num1+num2))\n",
        "print('뺄셈: %d - %d =%d' % (num1,num2, num1-num2))\n",
        "print('곱셈: %d * %d =%d' % (num1,num2, num1*num2))\n",
        "print('나눗셈: %d / %d =%d' % (num1,num2, num1/num2))"
      ],
      "metadata": {
        "colab": {
          "base_uri": "https://localhost:8080/"
        },
        "id": "5oSWlC-huejA",
        "outputId": "e001d46e-d3c8-4b35-da42-6b0bd257d291"
      },
      "execution_count": 41,
      "outputs": [
        {
          "output_type": "stream",
          "name": "stdout",
          "text": [
            "첫 번쨰 숫자: 10\n",
            "두 번째 숫자:20\n",
            "------------------------------\n",
            "덧셈: %d + %d =%d\n",
            "뺄셈: 10 - 20 =-10\n",
            "곱셈: 10 * 20 =200\n",
            "나눗셈: 10 / 20 =0\n"
          ]
        }
      ]
    },
    {
      "cell_type": "code",
      "source": [
        "num1 = int(input('첫 번쨰 숫자: '))\n",
        "num2 = int(input('두 번째 숫자:' ))\n",
        "print('-' * 30)\n",
        "print(f'덧셈: {num1} + {num2:>3} ={num1+num2}')\n",
        "print(f'뺼셈: {num1} + {num2:0>3} ={num1-num2}')\n",
        "print(f'곱셈: {num1} + {num2} ={num1*num2}')\n",
        "print(f'나눗셈: {num1} + {num2} ={num1/num2}')"
      ],
      "metadata": {
        "colab": {
          "base_uri": "https://localhost:8080/"
        },
        "id": "jWz5iZIEwvmD",
        "outputId": "8066d9af-18b8-4f90-9c30-117e0f94ab95"
      },
      "execution_count": 46,
      "outputs": [
        {
          "output_type": "stream",
          "name": "stdout",
          "text": [
            "첫 번쨰 숫자: 200\n",
            "두 번째 숫자:30\n",
            "------------------------------\n",
            "덧셈: 200 +  30 =230\n",
            "뺼셈: 200 + 030 =170\n",
            "곱셈: 200 + 30 =6000\n",
            "나눗셈: 200 + 30 =6.666666666666667\n"
          ]
        }
      ]
    },
    {
      "cell_type": "code",
      "source": [
        "num1 = float(input('속도를 입력 해주세요: '))\n",
        "num2 = float(input('거리를 입력 해주세요: '))\n",
        "print(f'속도 = {num1}')\n",
        "print(f'거리 = {num2}')\n",
        "print(f'시간 = {num2} / {num1} = {num2/num1} ')\n"
      ],
      "metadata": {
        "colab": {
          "base_uri": "https://localhost:8080/"
        },
        "id": "ouJWWkPhy1HP",
        "outputId": "bd53cc02-ab93-4421-cd48-98a1c1e41a07"
      },
      "execution_count": 57,
      "outputs": [
        {
          "output_type": "stream",
          "name": "stdout",
          "text": [
            "속도를 입력 해주세요: 200\n",
            "거리를 입력 해주세요: 50\n",
            "속도 = 200.0\n",
            "거리 = 50.0\n",
            "시간 = 50.0 / 200.0 = 0.25 \n"
          ]
        }
      ]
    },
    {
      "cell_type": "code",
      "source": [
        "a = int(input('정수를 입력하세요: '))\n",
        "b = int(a*11)\n",
        "c = int(a*111)\n",
        "print(f'{a} + {b} + {c} = {a+b+c}')\n"
      ],
      "metadata": {
        "colab": {
          "base_uri": "https://localhost:8080/"
        },
        "id": "2f5y7eQ22Sam",
        "outputId": "897f94fc-f905-4301-8615-bb3653a40981"
      },
      "execution_count": 69,
      "outputs": [
        {
          "output_type": "stream",
          "name": "stdout",
          "text": [
            "정수를 입력하세요: 7\n",
            "7 + 77 + 777 = 861\n"
          ]
        }
      ]
    },
    {
      "cell_type": "code",
      "source": [
        "#eval\n",
        "#eval('3 + 4')\n",
        "a = (input('정수를 입력하세요: '))\n",
        "result = f'{a} + {a + a} + {a + a + a}'\n",
        "print (f'{result} = {eval(result)}')"
      ],
      "metadata": {
        "colab": {
          "base_uri": "https://localhost:8080/"
        },
        "id": "n2snOfkf2Sbt",
        "outputId": "f4162f6a-7fe4-412c-f819-ac3cb99e0516"
      },
      "execution_count": 78,
      "outputs": [
        {
          "output_type": "stream",
          "name": "stdout",
          "text": [
            "정수를 입력하세요: 7\n",
            "7 + 77 + 777 = 861\n"
          ]
        }
      ]
    }
  ]
}